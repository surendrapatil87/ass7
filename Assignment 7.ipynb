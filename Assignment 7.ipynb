{
 "cells": [
  {
   "cell_type": "markdown",
   "id": "37f3ee08",
   "metadata": {},
   "source": [
    "# Q.1. Create two int type variables, apply addition, subtraction, division and multiplications\n",
    "and store the results in variables. Then print the data in the following format by calling the\n",
    "variables:\n",
    "First variable is __ & second variable is __.\n",
    "Addition: __ + __ = __\n",
    "Subtraction: __ - __ = __\n",
    "Multiplication: __ * __ = __\n",
    "Division: __ / __ = __"
   ]
  },
  {
   "cell_type": "code",
   "execution_count": 2,
   "id": "abe2ce44",
   "metadata": {},
   "outputs": [
    {
     "name": "stdout",
     "output_type": "stream",
     "text": [
      "First Variable is  5  & Second variable is  b\n",
      "Addition:  5  +  7  =  12\n",
      "Substraction:  5  -  7  =  -2\n",
      "Multiplication:  5  *  7  =  35\n",
      "Division:  5  /  7  =  0.7142857142857143\n"
     ]
    }
   ],
   "source": [
    "a = 5\n",
    "b = 7\n",
    "\n",
    "print('First Variable is ', a, ' & Second variable is ', 'b')\n",
    "\n",
    "print('Addition: ',a, ' + ', b, ' = ', a+b)\n",
    "\n",
    "print('Substraction: ',a, ' - ', b, ' = ', a-b)\n",
    "\n",
    "print('Multiplication: ',a, ' * ', b, ' = ', a*b)\n",
    "\n",
    "print('Division: ',a, ' / ', b, ' = ', a/b)"
   ]
  },
  {
   "cell_type": "markdown",
   "id": "7c9549ba",
   "metadata": {},
   "source": [
    "# Q.2. What is the difference between the following operators:\n",
    "(i) ‘/’ & ‘//’\n",
    "\n",
    "(ii) ‘**’ & ‘^’\n"
   ]
  },
  {
   "cell_type": "markdown",
   "id": "b589dbc8",
   "metadata": {},
   "source": [
    "Ans==\n",
    "\n",
    "The / operator performs normal division\n",
    "\n"
   ]
  },
  {
   "cell_type": "code",
   "execution_count": 4,
   "id": "a43e68b9",
   "metadata": {},
   "outputs": [
    {
     "name": "stdout",
     "output_type": "stream",
     "text": [
      "2.0\n"
     ]
    }
   ],
   "source": [
    "a = 10\n",
    "b = 5\n",
    "print(a / b)"
   ]
  },
  {
   "cell_type": "markdown",
   "id": "8ebe84f9",
   "metadata": {},
   "source": [
    "The // operator performs floor division,"
   ]
  },
  {
   "cell_type": "code",
   "execution_count": 6,
   "id": "4e7263b9",
   "metadata": {},
   "outputs": [
    {
     "name": "stdout",
     "output_type": "stream",
     "text": [
      "3\n"
     ]
    }
   ],
   "source": [
    "x = 10\n",
    "y = 3\n",
    "print(x // y)"
   ]
  },
  {
   "cell_type": "markdown",
   "id": "413a0a50",
   "metadata": {},
   "source": [
    "2>   ** Exponentitation=="
   ]
  },
  {
   "cell_type": "markdown",
   "id": "63780ce5",
   "metadata": {},
   "source": [
    "The ** operator performs Exponentiation  "
   ]
  },
  {
   "cell_type": "code",
   "execution_count": 14,
   "id": "93dd9cdd",
   "metadata": {},
   "outputs": [
    {
     "name": "stdout",
     "output_type": "stream",
     "text": [
      "8\n"
     ]
    }
   ],
   "source": [
    "x = 2\n",
    "y = 3\n",
    "print(x**y) #2*2*2=8"
   ]
  },
  {
   "cell_type": "markdown",
   "id": "3ed38e29",
   "metadata": {},
   "source": [
    "^ XOR==="
   ]
  },
  {
   "cell_type": "markdown",
   "id": "54494c58",
   "metadata": {},
   "source": [
    "The ^ operator performs XOR  As XOR is a bitwise operator, it will compare bits of both the integers bit by bit after converting them into binary numbers."
   ]
  },
  {
   "cell_type": "code",
   "execution_count": 13,
   "id": "5ddcd3f9",
   "metadata": {},
   "outputs": [
    {
     "name": "stdout",
     "output_type": "stream",
     "text": [
      "True XOR True = False\n",
      "True XOR False = True\n",
      "False XOR True = True\n",
      "False XOR False = False\n"
     ]
    }
   ],
   "source": [
    "# Initializing the boolean values\n",
    "a = True\n",
    "b = False\n",
    "\n",
    "# Finding XOR of boolean values using ^ operator\n",
    "p = a ^ a\n",
    "q = a ^ b\n",
    "r = b ^ a\n",
    "s = b ^ b\n",
    "\n",
    "# Printing the XOR value of every boolean combination\n",
    "print(a, \"XOR\", a, \"=\", p)\n",
    "print(a, \"XOR\", b, \"=\", q)\n",
    "print(b, \"XOR\", a, \"=\", r)\n",
    "print(b, \"XOR\", b, \"=\", s)\n"
   ]
  },
  {
   "cell_type": "markdown",
   "id": "7ebf288a",
   "metadata": {},
   "source": [
    "# Q.3. List the logical operators."
   ]
  },
  {
   "cell_type": "markdown",
   "id": "4051ad04",
   "metadata": {},
   "source": [
    " Ans== Python has three Boolean operators, or logical operator\n",
    " \n",
    " logical operators:-- and , or , and not ."
   ]
  },
  {
   "cell_type": "markdown",
   "id": "d5f0f467",
   "metadata": {},
   "source": [
    "# Q.4. Explain right shift operator and left shift operator with examples.\n"
   ]
  },
  {
   "cell_type": "code",
   "execution_count": 7,
   "id": "104fe3c7",
   "metadata": {},
   "outputs": [
    {
     "name": "stdout",
     "output_type": "stream",
     "text": [
      "4\n",
      "16\n"
     ]
    }
   ],
   "source": [
    "#Right shift operator shifts bits to right by a specfiied number after operator \n",
    "\n",
    "a = 64\n",
    "\n",
    "b = a >> 4\n",
    "print (b)\n",
    "\n",
    "#Left shift operator shifts bits to left by a specfiied number after operator i.e. multiply the number\n",
    "\n",
    "a = 2\n",
    "b = a << 3\n",
    "print(b)"
   ]
  },
  {
   "cell_type": "markdown",
   "id": "28384d32",
   "metadata": {},
   "source": [
    "# Q.5. Create a list containing int type data of length 15. Then write a code to check if 10 is present in the list or not."
   ]
  },
  {
   "cell_type": "code",
   "execution_count": 11,
   "id": "28e88278",
   "metadata": {},
   "outputs": [
    {
     "name": "stdout",
     "output_type": "stream",
     "text": [
      "Total items in List  15\n",
      "List contains the value at index  11\n"
     ]
    }
   ],
   "source": [
    "asmt_list = [1,2,3.10, 7j, True,  's', 'surendra', 'patil', 'xsds', 41,'bln', 10, 77, 890, \"Hello world\"]\n",
    "print(\"Total items in List \", len(asmt_list))\n",
    "length = len(asmt_list)\n",
    "for i in range(0,length):\n",
    "    a = asmt_list[i]\n",
    "    if a == 10:\n",
    "        print('List contains the value at index ', i)"
   ]
  },
  {
   "cell_type": "code",
   "execution_count": null,
   "id": "3a8ea660",
   "metadata": {},
   "outputs": [],
   "source": []
  }
 ],
 "metadata": {
  "kernelspec": {
   "display_name": "Python 3 (ipykernel)",
   "language": "python",
   "name": "python3"
  },
  "language_info": {
   "codemirror_mode": {
    "name": "ipython",
    "version": 3
   },
   "file_extension": ".py",
   "mimetype": "text/x-python",
   "name": "python",
   "nbconvert_exporter": "python",
   "pygments_lexer": "ipython3",
   "version": "3.10.9"
  }
 },
 "nbformat": 4,
 "nbformat_minor": 5
}
